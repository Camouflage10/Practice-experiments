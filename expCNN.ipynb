{
  "nbformat": 4,
  "nbformat_minor": 0,
  "metadata": {
    "colab": {
      "name": "expCNN.ipynb",
      "provenance": [],
      "authorship_tag": "ABX9TyNMIoZxWYXF0mOtR1yd1g9P",
      "include_colab_link": true
    },
    "kernelspec": {
      "name": "python3",
      "display_name": "Python 3"
    },
    "language_info": {
      "name": "python"
    }
  },
  "cells": [
    {
      "cell_type": "markdown",
      "metadata": {
        "id": "view-in-github",
        "colab_type": "text"
      },
      "source": [
        "<a href=\"https://colab.research.google.com/github/Camouflage10/Practice-experiments/blob/main/expCNN.ipynb\" target=\"_parent\"><img src=\"https://colab.research.google.com/assets/colab-badge.svg\" alt=\"Open In Colab\"/></a>"
      ]
    },
    {
      "cell_type": "code",
      "source": [
        "!pip install ruamel.yaml"
      ],
      "metadata": {
        "colab": {
          "base_uri": "https://localhost:8080/"
        },
        "id": "ymYqnbTYoa-O",
        "outputId": "4507e823-0e94-4048-d2f1-03c6fb406f7c"
      },
      "execution_count": 1,
      "outputs": [
        {
          "output_type": "stream",
          "name": "stdout",
          "text": [
            "Collecting ruamel.yaml\n",
            "  Downloading ruamel.yaml-0.17.21-py3-none-any.whl (109 kB)\n",
            "\u001b[K     |████████████████████████████████| 109 kB 3.8 MB/s \n",
            "\u001b[?25hCollecting ruamel.yaml.clib>=0.2.6\n",
            "  Downloading ruamel.yaml.clib-0.2.6-cp37-cp37m-manylinux1_x86_64.whl (546 kB)\n",
            "\u001b[K     |████████████████████████████████| 546 kB 36.4 MB/s \n",
            "\u001b[?25hInstalling collected packages: ruamel.yaml.clib, ruamel.yaml\n",
            "Successfully installed ruamel.yaml-0.17.21 ruamel.yaml.clib-0.2.6\n"
          ]
        }
      ]
    },
    {
      "cell_type": "code",
      "execution_count": 2,
      "metadata": {
        "id": "LBWuG7aIffsp"
      },
      "outputs": [],
      "source": [
        "import numpy as np\n",
        "from tensorflow import keras\n",
        "from keras.models import Sequential\n",
        "from keras.layers import Dense, LSTM, Dropout, Conv2D, MaxPooling2D, Flatten\n",
        "import matplotlib.pyplot as plt\n",
        "from sklearn.metrics import confusion_matrix, recall_score, precision_score\n",
        "import seaborn as sns\n",
        "from ruamel.yaml import YAML\n",
        "import json"
      ]
    },
    {
      "cell_type": "code",
      "source": [
        "#write dvc.yaml\n",
        "#write exp.yaml but only for a specific branch and output in comments diff\n",
        "#start with small experiments and end with grid search to end project to start w cho\n",
        "#MLEM to save models\n",
        "#bayesian optimization\n",
        "#tensorboard\n",
        "#https://machinelearningmastery.com/what-is-bayesian-optimization/\n",
        "epochs=-1\n",
        "batch_size=128\n",
        "dropout=-1\n",
        "reg='l2'\n",
        "optim=\"adam\"\n",
        "act=\"relu\""
      ],
      "metadata": {
        "id": "4vLQxpQ903Dc"
      },
      "execution_count": 3,
      "outputs": []
    },
    {
      "cell_type": "code",
      "source": [
        "def load_params():\n",
        "    \"Updates FULL_PARAMS with the values in params.yaml and returns all as a dictionary\"\n",
        "    yaml = YAML(typ=\"safe\")\n",
        "    with open(\"params.yaml\") as f:\n",
        "        params = yaml.load(f)\n",
        "    return params\n",
        "params=load_params()\n",
        "epochs=params[\"train\"][\"epochs\"]\n",
        "dropout=params[\"model\"][\"dropout\"]\n",
        "print(epochs)\n",
        "print(dropout)"
      ],
      "metadata": {
        "id": "V0ZKzEIeoQNf",
        "colab": {
          "base_uri": "https://localhost:8080/",
          "height": 340
        },
        "outputId": "3cab2337-4fb4-4a8f-a587-b0b72991c5c2"
      },
      "execution_count": null,
      "outputs": [
        {
          "output_type": "error",
          "ename": "FileNotFoundError",
          "evalue": "ignored",
          "traceback": [
            "\u001b[0;31m---------------------------------------------------------------------------\u001b[0m",
            "\u001b[0;31mFileNotFoundError\u001b[0m                         Traceback (most recent call last)",
            "\u001b[0;32m<ipython-input-19-92949a73e90c>\u001b[0m in \u001b[0;36m<module>\u001b[0;34m()\u001b[0m\n\u001b[1;32m      5\u001b[0m         \u001b[0mparams\u001b[0m \u001b[0;34m=\u001b[0m \u001b[0myaml\u001b[0m\u001b[0;34m.\u001b[0m\u001b[0mload\u001b[0m\u001b[0;34m(\u001b[0m\u001b[0mf\u001b[0m\u001b[0;34m)\u001b[0m\u001b[0;34m\u001b[0m\u001b[0;34m\u001b[0m\u001b[0m\n\u001b[1;32m      6\u001b[0m     \u001b[0;32mreturn\u001b[0m \u001b[0mparams\u001b[0m\u001b[0;34m\u001b[0m\u001b[0;34m\u001b[0m\u001b[0m\n\u001b[0;32m----> 7\u001b[0;31m \u001b[0mparams\u001b[0m\u001b[0;34m=\u001b[0m\u001b[0mload_params\u001b[0m\u001b[0;34m(\u001b[0m\u001b[0;34m)\u001b[0m\u001b[0;34m\u001b[0m\u001b[0;34m\u001b[0m\u001b[0m\n\u001b[0m\u001b[1;32m      8\u001b[0m \u001b[0mepochs\u001b[0m\u001b[0;34m=\u001b[0m\u001b[0mparams\u001b[0m\u001b[0;34m[\u001b[0m\u001b[0;34m\"train\"\u001b[0m\u001b[0;34m]\u001b[0m\u001b[0;34m[\u001b[0m\u001b[0;34m\"epochs\"\u001b[0m\u001b[0;34m]\u001b[0m\u001b[0;34m\u001b[0m\u001b[0;34m\u001b[0m\u001b[0m\n",
            "\u001b[0;32m<ipython-input-19-92949a73e90c>\u001b[0m in \u001b[0;36mload_params\u001b[0;34m()\u001b[0m\n\u001b[1;32m      2\u001b[0m     \u001b[0;34m\"Updates FULL_PARAMS with the values in params.yaml and returns all as a dictionary\"\u001b[0m\u001b[0;34m\u001b[0m\u001b[0;34m\u001b[0m\u001b[0m\n\u001b[1;32m      3\u001b[0m     \u001b[0myaml\u001b[0m \u001b[0;34m=\u001b[0m \u001b[0mYAML\u001b[0m\u001b[0;34m(\u001b[0m\u001b[0mtyp\u001b[0m\u001b[0;34m=\u001b[0m\u001b[0;34m\"safe\"\u001b[0m\u001b[0;34m)\u001b[0m\u001b[0;34m\u001b[0m\u001b[0;34m\u001b[0m\u001b[0m\n\u001b[0;32m----> 4\u001b[0;31m     \u001b[0;32mwith\u001b[0m \u001b[0mopen\u001b[0m\u001b[0;34m(\u001b[0m\u001b[0;34m\"params.yaml\"\u001b[0m\u001b[0;34m)\u001b[0m \u001b[0;32mas\u001b[0m \u001b[0mf\u001b[0m\u001b[0;34m:\u001b[0m\u001b[0;34m\u001b[0m\u001b[0;34m\u001b[0m\u001b[0m\n\u001b[0m\u001b[1;32m      5\u001b[0m         \u001b[0mparams\u001b[0m \u001b[0;34m=\u001b[0m \u001b[0myaml\u001b[0m\u001b[0;34m.\u001b[0m\u001b[0mload\u001b[0m\u001b[0;34m(\u001b[0m\u001b[0mf\u001b[0m\u001b[0;34m)\u001b[0m\u001b[0;34m\u001b[0m\u001b[0;34m\u001b[0m\u001b[0m\n\u001b[1;32m      6\u001b[0m     \u001b[0;32mreturn\u001b[0m \u001b[0mparams\u001b[0m\u001b[0;34m\u001b[0m\u001b[0;34m\u001b[0m\u001b[0m\n",
            "\u001b[0;31mFileNotFoundError\u001b[0m: [Errno 2] No such file or directory: 'params.yaml'"
          ]
        }
      ]
    },
    {
      "cell_type": "code",
      "source": [
        "# Model / data parameters\n",
        "num_classes = 10\n",
        "input_shape = (28, 28, 1)\n",
        "\n",
        "# the data, split between train and test sets\n",
        "(x_train, y_train), (x_test, y_test) = keras.datasets.mnist.load_data()\n",
        "\n",
        "# Scale images to the [0, 1] range\n",
        "x_train = x_train.astype(\"float32\") / 255\n",
        "x_test = x_test.astype(\"float32\") / 255\n",
        "# Make sure images have shape (28, 28, 1)\n",
        "x_train = np.expand_dims(x_train, -1)\n",
        "x_test = np.expand_dims(x_test, -1)\n",
        "print(\"x_train shape:\", x_train.shape)\n",
        "print(x_train.shape[0], \"train samples\")\n",
        "print(x_test.shape[0], \"test samples\")\n",
        "\n",
        "\n",
        "# convert class vectors to binary class matrices\n",
        "y_train = keras.utils.to_categorical(y_train, num_classes)\n",
        "y_test = keras.utils.to_categorical(y_test, num_classes)"
      ],
      "metadata": {
        "colab": {
          "base_uri": "https://localhost:8080/"
        },
        "id": "PlwU1vuOf2Cz",
        "outputId": "bfbe0952-cd20-47db-a68b-991cfeb068ee"
      },
      "execution_count": 4,
      "outputs": [
        {
          "output_type": "stream",
          "name": "stdout",
          "text": [
            "Downloading data from https://storage.googleapis.com/tensorflow/tf-keras-datasets/mnist.npz\n",
            "11493376/11490434 [==============================] - 0s 0us/step\n",
            "11501568/11490434 [==============================] - 0s 0us/step\n",
            "x_train shape: (60000, 28, 28, 1)\n",
            "60000 train samples\n",
            "10000 test samples\n"
          ]
        }
      ]
    },
    {
      "cell_type": "code",
      "source": [
        "def CNN_model(inputShape=input_shape, dropout=.1, act='relu', reg=None, normLayer=False, lr=None):\n",
        "  model=Sequential()\n",
        "  #input\n",
        "  model.add(Conv2D(32, kernel_size=(3, 3), activation=\"relu\", input_shape=inputShape))\n",
        "  #hidden layer\n",
        "  model.add(MaxPooling2D(pool_size=(2, 2)))\n",
        "  model.add(Conv2D(64, kernel_size=(3, 3), activation=\"relu\"))\n",
        "  model.add(MaxPooling2D(pool_size=(2, 2)))\n",
        "  model.add(Flatten())\n",
        "  model.add(Dropout(dropout))\n",
        "  #output\n",
        "  model.add(Dense(num_classes, activation=\"softmax\"))\n",
        "  #compile model\n",
        "  model.compile(loss=\"categorical_crossentropy\", optimizer=\"adam\", metrics=[\"accuracy\"])\n",
        "  return model"
      ],
      "metadata": {
        "id": "oBSxMjcwf5e8"
      },
      "execution_count": 5,
      "outputs": []
    },
    {
      "cell_type": "code",
      "source": [
        "model=CNN_model(dropout=dropout)\n",
        "model.summary()"
      ],
      "metadata": {
        "id": "iDG7ZClKguic",
        "colab": {
          "base_uri": "https://localhost:8080/"
        },
        "outputId": "6679330e-9635-4d04-b194-94c44b94932a"
      },
      "execution_count": 6,
      "outputs": [
        {
          "output_type": "stream",
          "name": "stdout",
          "text": [
            "Model: \"sequential\"\n",
            "_________________________________________________________________\n",
            " Layer (type)                Output Shape              Param #   \n",
            "=================================================================\n",
            " conv2d (Conv2D)             (None, 26, 26, 32)        320       \n",
            "                                                                 \n",
            " max_pooling2d (MaxPooling2D  (None, 13, 13, 32)       0         \n",
            " )                                                               \n",
            "                                                                 \n",
            " conv2d_1 (Conv2D)           (None, 11, 11, 64)        18496     \n",
            "                                                                 \n",
            " max_pooling2d_1 (MaxPooling  (None, 5, 5, 64)         0         \n",
            " 2D)                                                             \n",
            "                                                                 \n",
            " flatten (Flatten)           (None, 1600)              0         \n",
            "                                                                 \n",
            " dropout (Dropout)           (None, 1600)              0         \n",
            "                                                                 \n",
            " dense (Dense)               (None, 10)                16010     \n",
            "                                                                 \n",
            "=================================================================\n",
            "Total params: 34,826\n",
            "Trainable params: 34,826\n",
            "Non-trainable params: 0\n",
            "_________________________________________________________________\n"
          ]
        }
      ]
    },
    {
      "cell_type": "code",
      "source": [
        "hist=model.fit(x_train, y_train, batch_size=batch_size, epochs=epochs, validation_split=0.1)"
      ],
      "metadata": {
        "colab": {
          "base_uri": "https://localhost:8080/"
        },
        "id": "qaPnjAo6h62I",
        "outputId": "188b74bf-fcf1-4058-9638-3b3c1379a39a"
      },
      "execution_count": 7,
      "outputs": [
        {
          "output_type": "stream",
          "name": "stdout",
          "text": [
            "Epoch 1/10\n",
            "422/422 [==============================] - 48s 112ms/step - loss: 0.3602 - accuracy: 0.8907 - val_loss: 0.0834 - val_accuracy: 0.9768\n",
            "Epoch 2/10\n",
            "422/422 [==============================] - 48s 113ms/step - loss: 0.1156 - accuracy: 0.9642 - val_loss: 0.0561 - val_accuracy: 0.9835\n",
            "Epoch 3/10\n",
            "422/422 [==============================] - 43s 102ms/step - loss: 0.0895 - accuracy: 0.9727 - val_loss: 0.0488 - val_accuracy: 0.9870\n",
            "Epoch 4/10\n",
            "422/422 [==============================] - 43s 103ms/step - loss: 0.0720 - accuracy: 0.9775 - val_loss: 0.0426 - val_accuracy: 0.9892\n",
            "Epoch 5/10\n",
            "422/422 [==============================] - 43s 101ms/step - loss: 0.0635 - accuracy: 0.9797 - val_loss: 0.0436 - val_accuracy: 0.9878\n",
            "Epoch 6/10\n",
            "422/422 [==============================] - 43s 103ms/step - loss: 0.0591 - accuracy: 0.9809 - val_loss: 0.0350 - val_accuracy: 0.9895\n",
            "Epoch 7/10\n",
            "422/422 [==============================] - 43s 101ms/step - loss: 0.0538 - accuracy: 0.9833 - val_loss: 0.0353 - val_accuracy: 0.9902\n",
            "Epoch 8/10\n",
            "422/422 [==============================] - 43s 101ms/step - loss: 0.0487 - accuracy: 0.9849 - val_loss: 0.0352 - val_accuracy: 0.9900\n",
            "Epoch 9/10\n",
            "422/422 [==============================] - 43s 101ms/step - loss: 0.0445 - accuracy: 0.9863 - val_loss: 0.0322 - val_accuracy: 0.9918\n",
            "Epoch 10/10\n",
            "422/422 [==============================] - 43s 101ms/step - loss: 0.0448 - accuracy: 0.9855 - val_loss: 0.0335 - val_accuracy: 0.9905\n"
          ]
        }
      ]
    },
    {
      "cell_type": "code",
      "source": [
        "y_pred=model.predict(x_test)\n",
        "y_pred = (y_pred > 0.5) "
      ],
      "metadata": {
        "id": "1qwAHA65xH1W"
      },
      "execution_count": 8,
      "outputs": []
    },
    {
      "cell_type": "code",
      "source": [
        "score = model.evaluate(x_test, y_test, verbose=0)\n",
        "with open('metrics.txt', 'w') as outfile:\n",
        "  outfile.write(\"Test loss: \" + str(round(score[0],5)))\n",
        "  outfile.write(\"\\nTest accuracy: \" + str(round(score[1],5))+\"\\n\")\n",
        "\n",
        "loss=round(score[0],5)\n",
        "acc=round(score[1],5)\n",
        "prec=round(precision_score(y_test, y_pred, average='macro'),5)\n",
        "recall=round(recall_score(y_test, y_pred, average='macro'),5)\n",
        "value = {\n",
        "        \"loss\": loss,\n",
        "        \"accuracy\": acc,\n",
        "        \"precision\": prec,\n",
        "        \"recall\": recall\n",
        "    }\n",
        "with open('metrics.json', 'w') as outfile:\n",
        "  outfile.write(json.dumps(value))\n",
        "value = {\"accuracy\": acc}\n",
        "with open('score.json', 'w') as outfile:\n",
        "  outfile.write(json.dumps(value))\n"
      ],
      "metadata": {
        "id": "sYgJS-CxiGMt"
      },
      "execution_count": 9,
      "outputs": []
    },
    {
      "cell_type": "code",
      "source": [
        "\n",
        "cm = confusion_matrix(y_test.argmax(axis=1), y_pred.argmax(axis=1))\n",
        "ax = sns.heatmap(cm, annot=True, cmap='Blues')\n",
        "\n",
        "ax.set_title('Confusion Matrix\\n');\n",
        "ax.set_xlabel('\\nPredicted Values')\n",
        "ax.set_ylabel('Actual Values ');\n",
        "\n",
        "## Ticket labels - List must be in alphabetical order\n",
        "#ax.xaxis.set_ticklabels(['False','True'])\n",
        "#ax.yaxis.set_ticklabels(['False','True'])\n",
        "\n",
        "## Display the visualization of the Confusion Matrix.\n",
        "plt.tight_layout()\n",
        "fig1 = plt.gcf()\n",
        "fig1.savefig('cm.png', dpi=100)\n",
        "\n",
        "plt.show()"
      ],
      "metadata": {
        "colab": {
          "base_uri": "https://localhost:8080/",
          "height": 297
        },
        "id": "N5LDTOvbjHOZ",
        "outputId": "bbde3214-31e1-4124-b469-441fcc76a6b8"
      },
      "execution_count": 10,
      "outputs": [
        {
          "output_type": "display_data",
          "data": {
            "text/plain": [
              "<Figure size 432x288 with 2 Axes>"
            ],
            "image/png": "[encoded data removed]"
          },
          "metadata": {
            "needs_background": "light"
          }
        }
      ]
    },
    {
      "cell_type": "code",
      "source": [
        ""
      ],
      "metadata": {
        "id": "Ai74w6KCprNk"
      },
      "execution_count": null,
      "outputs": []
    }
  ]
}