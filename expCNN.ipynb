{
  "nbformat": 4,
  "nbformat_minor": 0,
  "metadata": {
    "colab": {
      "name": "expCNN.ipynb",
      "provenance": [],
      "authorship_tag": "ABX9TyOz8EGDXkKgibi54AUXIsyz",
      "include_colab_link": true
    },
    "kernelspec": {
      "name": "python3",
      "display_name": "Python 3"
    },
    "language_info": {
      "name": "python"
    }
  },
  "cells": [
    {
      "cell_type": "markdown",
      "metadata": {
        "id": "view-in-github",
        "colab_type": "text"
      },
      "source": [
        "<a href=\"https://colab.research.google.com/github/Camouflage10/Practice-experiments/blob/main/expCNN.ipynb\" target=\"_parent\"><img src=\"https://colab.research.google.com/assets/colab-badge.svg\" alt=\"Open In Colab\"/></a>"
      ]
    },
    {
      "cell_type": "code",
      "source": [
        "!pip install ruamel.yaml"
      ],
      "metadata": {
        "colab": {
          "base_uri": "https://localhost:8080/"
        },
        "id": "ymYqnbTYoa-O",
        "outputId": "d11d9fa6-5fee-46c6-a927-c3f81ba211bf"
      },
      "execution_count": null,
      "outputs": [
        {
          "output_type": "stream",
          "name": "stdout",
          "text": [
            "Collecting ruamel.yaml\n",
            "  Downloading ruamel.yaml-0.17.21-py3-none-any.whl (109 kB)\n",
            "\u001b[K     |████████████████████████████████| 109 kB 26.6 MB/s \n",
            "\u001b[?25hCollecting ruamel.yaml.clib>=0.2.6\n",
            "  Downloading ruamel.yaml.clib-0.2.6-cp37-cp37m-manylinux1_x86_64.whl (546 kB)\n",
            "\u001b[K     |████████████████████████████████| 546 kB 51.2 MB/s \n",
            "\u001b[?25hInstalling collected packages: ruamel.yaml.clib, ruamel.yaml\n",
            "Successfully installed ruamel.yaml-0.17.21 ruamel.yaml.clib-0.2.6\n"
          ]
        }
      ]
    },
    {
      "cell_type": "code",
      "execution_count": null,
      "metadata": {
        "id": "LBWuG7aIffsp"
      },
      "outputs": [],
      "source": [
        "import numpy as np\n",
        "from tensorflow import keras\n",
        "from keras.models import Sequential\n",
        "from keras.layers import Dense, LSTM, Dropout, Conv2D, MaxPooling2D, Flatten\n",
        "import matplotlib.pyplot as plt\n",
        "from sklearn.metrics import confusion_matrix, recall_score, precision_score\n",
        "import seaborn as sns\n",
        "from ruamel.yaml import YAML\n",
        "import json"
      ]
    },
    {
      "cell_type": "code",
      "source": [
        "def load_params():\n",
        "    \"Updates FULL_PARAMS with the values in params.yaml and returns all as a dictionary\"\n",
        "    yaml = YAML(typ=\"safe\")\n",
        "    with open(\"params.yaml\") as f:\n",
        "        params = yaml.load(f)\n",
        "    return params"
      ],
      "metadata": {
        "id": "V0ZKzEIeoQNf"
      },
      "execution_count": null,
      "outputs": []
    },
    {
      "cell_type": "code",
      "source": [
        "# Model / data parameters\n",
        "num_classes = 10\n",
        "input_shape = (28, 28, 1)\n",
        "\n",
        "# the data, split between train and test sets\n",
        "(x_train, y_train), (x_test, y_test) = keras.datasets.mnist.load_data()\n",
        "\n",
        "# Scale images to the [0, 1] range\n",
        "x_train = x_train.astype(\"float32\") / 255\n",
        "x_test = x_test.astype(\"float32\") / 255\n",
        "# Make sure images have shape (28, 28, 1)\n",
        "x_train = np.expand_dims(x_train, -1)\n",
        "x_test = np.expand_dims(x_test, -1)\n",
        "print(\"x_train shape:\", x_train.shape)\n",
        "print(x_train.shape[0], \"train samples\")\n",
        "print(x_test.shape[0], \"test samples\")\n",
        "\n",
        "\n",
        "# convert class vectors to binary class matrices\n",
        "y_train = keras.utils.to_categorical(y_train, num_classes)\n",
        "y_test = keras.utils.to_categorical(y_test, num_classes)"
      ],
      "metadata": {
        "colab": {
          "base_uri": "https://localhost:8080/"
        },
        "id": "PlwU1vuOf2Cz",
        "outputId": "1812ed18-fe07-48cb-e675-a4c668883038"
      },
      "execution_count": null,
      "outputs": [
        {
          "output_type": "stream",
          "name": "stdout",
          "text": [
            "Downloading data from https://storage.googleapis.com/tensorflow/tf-keras-datasets/mnist.npz\n",
            "11493376/11490434 [==============================] - 0s 0us/step\n",
            "11501568/11490434 [==============================] - 0s 0us/step\n",
            "x_train shape: (60000, 28, 28, 1)\n",
            "60000 train samples\n",
            "10000 test samples\n"
          ]
        }
      ]
    },
    {
      "cell_type": "code",
      "source": [
        "def CNN_model(inputShape=input_shape):\n",
        "  model=Sequential()\n",
        "  #input\n",
        "  model.add(Conv2D(32, kernel_size=(3, 3), activation=\"relu\", input_shape=inputShape))\n",
        "  #hidden layer\n",
        "  model.add(MaxPooling2D(pool_size=(2, 2)))\n",
        "  model.add(Conv2D(64, kernel_size=(3, 3), activation=\"relu\"))\n",
        "  model.add(MaxPooling2D(pool_size=(2, 2)))\n",
        "  model.add(Flatten())\n",
        "  model.add(Dropout(.5))\n",
        "  #output\n",
        "  model.add(Dense(num_classes, activation=\"softmax\"))\n",
        "  #compile model\n",
        "  model.compile(loss=\"categorical_crossentropy\", optimizer=\"adam\", metrics=[\"accuracy\"])\n",
        "  return model"
      ],
      "metadata": {
        "id": "oBSxMjcwf5e8"
      },
      "execution_count": null,
      "outputs": []
    },
    {
      "cell_type": "code",
      "source": [
        "model=CNN_model()\n",
        "model.summary()"
      ],
      "metadata": {
        "colab": {
          "base_uri": "https://localhost:8080/"
        },
        "id": "iDG7ZClKguic",
        "outputId": "2274e79c-a55a-4dbf-9af0-07bc6a8f9a92"
      },
      "execution_count": null,
      "outputs": [
        {
          "output_type": "stream",
          "name": "stdout",
          "text": [
            "Model: \"sequential\"\n",
            "_________________________________________________________________\n",
            " Layer (type)                Output Shape              Param #   \n",
            "=================================================================\n",
            " conv2d (Conv2D)             (None, 26, 26, 32)        320       \n",
            "                                                                 \n",
            " max_pooling2d (MaxPooling2D  (None, 13, 13, 32)       0         \n",
            " )                                                               \n",
            "                                                                 \n",
            " conv2d_1 (Conv2D)           (None, 11, 11, 64)        18496     \n",
            "                                                                 \n",
            " max_pooling2d_1 (MaxPooling  (None, 5, 5, 64)         0         \n",
            " 2D)                                                             \n",
            "                                                                 \n",
            " flatten (Flatten)           (None, 1600)              0         \n",
            "                                                                 \n",
            " dropout (Dropout)           (None, 1600)              0         \n",
            "                                                                 \n",
            " dense (Dense)               (None, 10)                16010     \n",
            "                                                                 \n",
            "=================================================================\n",
            "Total params: 34,826\n",
            "Trainable params: 34,826\n",
            "Non-trainable params: 0\n",
            "_________________________________________________________________\n"
          ]
        }
      ]
    },
    {
      "cell_type": "code",
      "source": [
        "batch_size = 128\n",
        "epochs = 5\n",
        "\n",
        "hist=model.fit(x_train, y_train, batch_size=batch_size, epochs=epochs, validation_split=0.1)"
      ],
      "metadata": {
        "colab": {
          "base_uri": "https://localhost:8080/"
        },
        "id": "qaPnjAo6h62I",
        "outputId": "c0ebb959-13b7-4cb4-95bf-5a79b2cd6b8d"
      },
      "execution_count": null,
      "outputs": [
        {
          "output_type": "stream",
          "name": "stdout",
          "text": [
            "Epoch 1/10\n",
            "422/422 [==============================] - 49s 111ms/step - loss: 0.3620 - accuracy: 0.8893 - val_loss: 0.0857 - val_accuracy: 0.9787\n",
            "Epoch 2/10\n",
            "422/422 [==============================] - 43s 102ms/step - loss: 0.1144 - accuracy: 0.9640 - val_loss: 0.0568 - val_accuracy: 0.9840\n",
            "Epoch 3/10\n",
            "422/422 [==============================] - 44s 105ms/step - loss: 0.0859 - accuracy: 0.9733 - val_loss: 0.0479 - val_accuracy: 0.9857\n",
            "Epoch 4/10\n",
            "422/422 [==============================] - 43s 102ms/step - loss: 0.0747 - accuracy: 0.9769 - val_loss: 0.0409 - val_accuracy: 0.9897\n",
            "Epoch 5/10\n",
            "422/422 [==============================] - 43s 102ms/step - loss: 0.0637 - accuracy: 0.9805 - val_loss: 0.0369 - val_accuracy: 0.9898\n",
            "Epoch 6/10\n",
            "422/422 [==============================] - 43s 102ms/step - loss: 0.0582 - accuracy: 0.9820 - val_loss: 0.0332 - val_accuracy: 0.9918\n",
            "Epoch 7/10\n",
            "422/422 [==============================] - 43s 102ms/step - loss: 0.0544 - accuracy: 0.9833 - val_loss: 0.0333 - val_accuracy: 0.9902\n",
            "Epoch 8/10\n",
            "422/422 [==============================] - 43s 102ms/step - loss: 0.0478 - accuracy: 0.9851 - val_loss: 0.0332 - val_accuracy: 0.9915\n",
            "Epoch 9/10\n",
            "422/422 [==============================] - 43s 103ms/step - loss: 0.0457 - accuracy: 0.9856 - val_loss: 0.0321 - val_accuracy: 0.9913\n",
            "Epoch 10/10\n",
            "422/422 [==============================] - 43s 102ms/step - loss: 0.0421 - accuracy: 0.9869 - val_loss: 0.0299 - val_accuracy: 0.9920\n"
          ]
        }
      ]
    },
    {
      "cell_type": "code",
      "source": [
        "y_pred=model.predict(x_test)\n",
        "y_pred = (y_pred > 0.5) "
      ],
      "metadata": {
        "id": "1qwAHA65xH1W"
      },
      "execution_count": null,
      "outputs": []
    },
    {
      "cell_type": "code",
      "source": [
        "score = model.evaluate(x_test, y_test, verbose=0)\n",
        "with open('metrics.txt', 'w') as outfile:\n",
        "  outfile.write(\"Test loss: \" + str(round(score[0],5)))\n",
        "  outfile.write(\"\\nTest accuracy: \" + str(round(score[1],5))+\"\\n\")\n",
        "\n",
        "loss=round(score[0],5)\n",
        "acc=round(score[1],5)\n",
        "prec=round(precision_score(y_test, y_pred, average='macro'),5)\n",
        "recall=round(recall_score(y_test, y_pred, average='macro'),5)\n",
        "value = {\n",
        "        \"loss\": loss,\n",
        "        \"accuracy\": acc,\n",
        "        \"precision\": prec,\n",
        "        \"recall\": recall\n",
        "    }\n",
        "with open('metrics.json', 'w') as outfile:\n",
        "  outfile.write(json.dumps(value))\n"
      ],
      "metadata": {
        "id": "sYgJS-CxiGMt"
      },
      "execution_count": null,
      "outputs": []
    },
    {
      "cell_type": "code",
      "source": [
        "\n",
        "cm = confusion_matrix(y_test.argmax(axis=1), y_pred.argmax(axis=1))\n",
        "ax = sns.heatmap(cm, annot=True, cmap='Blues')\n",
        "\n",
        "ax.set_title('Confusion Matrix\\n');\n",
        "ax.set_xlabel('\\nPredicted Values')\n",
        "ax.set_ylabel('Actual Values ');\n",
        "\n",
        "## Ticket labels - List must be in alphabetical order\n",
        "#ax.xaxis.set_ticklabels(['False','True'])\n",
        "#ax.yaxis.set_ticklabels(['False','True'])\n",
        "\n",
        "## Display the visualization of the Confusion Matrix.\n",
        "plt.tight_layout()\n",
        "fig1 = plt.gcf()\n",
        "fig1.savefig('cm.png', dpi=100)\n",
        "\n",
        "plt.show()"
      ],
      "metadata": {
        "colab": {
          "base_uri": "https://localhost:8080/",
          "height": 297
        },
        "id": "N5LDTOvbjHOZ",
        "outputId": "ccf3af2c-a9c3-4ad5-cc79-af44a9004f10"
      },
      "execution_count": null,
      "outputs": [
        {
          "output_type": "display_data",
          "data": {
            "text/plain": [
              "<Figure size 432x288 with 2 Axes>"
            ],
            "image/png": "[encoded data removed]"
          },
          "metadata": {
            "needs_background": "light"
          }
        }
      ]
    },
    {
      "cell_type": "code",
      "source": [
        ""
      ],
      "metadata": {
        "id": "Ai74w6KCprNk"
      },
      "execution_count": null,
      "outputs": []
    }
  ]
}