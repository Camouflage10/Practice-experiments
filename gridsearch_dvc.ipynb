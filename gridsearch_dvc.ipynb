{
  "nbformat": 4,
  "nbformat_minor": 0,
  "metadata": {
    "colab": {
      "name": "gridsearch_dvc.ipynb",
      "provenance": [],
      "authorship_tag": "ABX9TyM8vBOv63rT8jGwl8mbw3nF",
      "include_colab_link": true
    },
    "kernelspec": {
      "name": "python3",
      "display_name": "Python 3"
    },
    "language_info": {
      "name": "python"
    }
  },
  "cells": [
    {
      "cell_type": "markdown",
      "metadata": {
        "id": "view-in-github",
        "colab_type": "text"
      },
      "source": [
        "<a href=\"https://colab.research.google.com/github/Camouflage10/Practice-experiments/blob/main/gridsearch_dvc.ipynb\" target=\"_parent\"><img src=\"https://colab.research.google.com/assets/colab-badge.svg\" alt=\"Open In Colab\"/></a>"
      ]
    },
    {
      "cell_type": "code",
      "execution_count": 2,
      "metadata": {
        "id": "tXVJj5XMJWnM"
      },
      "outputs": [],
      "source": [
        "import subprocess"
      ]
    },
    {
      "cell_type": "code",
      "source": [
        "#params\n",
        "p1=[10,15]\n",
        "p2=[1,2,3,4]\n",
        "p3=[.1,.3,.5,.8]\n",
        "params=[p1,p2,p3]\n",
        "param_names=['train.epochs','model.layers','model.dropout']"
      ],
      "metadata": {
        "id": "NmwEZE5DJlW6"
      },
      "execution_count": 9,
      "outputs": []
    },
    {
      "cell_type": "code",
      "source": [
        "def send_experiment(indexes):\n",
        "  setp=[]\n",
        "  for i,e in enumerate(params):\n",
        "    setp.append(e[indexes[i]])\n",
        "  sub=[\"dvc\", \"exp\", \"run\", \"--queue\"]\n",
        "  for i,param in enumerate(setp):\n",
        "    sub.append(\"--set-param\")\n",
        "    sub.append(f\"{param_names[i]}={param}\")\n",
        "  subprocess.run(sub)\n",
        "  "
      ],
      "metadata": {
        "id": "b_DIvs4tRUl4"
      },
      "execution_count": 10,
      "outputs": []
    },
    {
      "cell_type": "code",
      "source": [
        "def send_subprocess_rec(arr,func):\n",
        "  spacing=[]\n",
        "  indexes=[0]*len(arr)\n",
        "  total=0\n",
        "  for e in arr:\n",
        "    l=len(e)\n",
        "    try:\n",
        "      spacing.append(spacing[-1]*l)\n",
        "    except:\n",
        "      spacing.append(l)\n",
        "\n",
        "  total=spacing.pop()\n",
        "  for i in range(1,total+1):\n",
        "    #send\n",
        "    send_experiment(indexes)\n",
        "    #change out\n",
        "    indexes[0]+=1\n",
        "    for j in range(len(spacing)):\n",
        "      if i%(spacing[j])==0:\n",
        "        indexes[j+1]+=1\n",
        "        indexes[j]=0\n",
        "    \n"
      ],
      "metadata": {
        "id": "qEdKjwJpMAvN"
      },
      "execution_count": 11,
      "outputs": []
    },
    {
      "cell_type": "code",
      "source": [
        "send_subprocess_rec(params,send_experiment)"
      ],
      "metadata": {
        "colab": {
          "base_uri": "https://localhost:8080/"
        },
        "id": "g5IhdH5GSYm2",
        "outputId": "6bb5aabc-37ff-4a91-c604-8c318f18a44b"
      },
      "execution_count": 8,
      "outputs": [
        {
          "output_type": "stream",
          "name": "stdout",
          "text": [
            "['dvc', 'exp', 'run', '--queue', '--set-param', 'train.epochs=10', '--set-param', 'model.layers=1', '--set-param', 'model.dropout=0.1']\n",
            "['dvc', 'exp', 'run', '--queue', '--set-param', 'train.epochs=15', '--set-param', 'model.layers=1', '--set-param', 'model.dropout=0.1']\n",
            "['dvc', 'exp', 'run', '--queue', '--set-param', 'train.epochs=10', '--set-param', 'model.layers=2', '--set-param', 'model.dropout=0.1']\n",
            "['dvc', 'exp', 'run', '--queue', '--set-param', 'train.epochs=15', '--set-param', 'model.layers=2', '--set-param', 'model.dropout=0.1']\n",
            "['dvc', 'exp', 'run', '--queue', '--set-param', 'train.epochs=10', '--set-param', 'model.layers=3', '--set-param', 'model.dropout=0.1']\n",
            "['dvc', 'exp', 'run', '--queue', '--set-param', 'train.epochs=15', '--set-param', 'model.layers=3', '--set-param', 'model.dropout=0.1']\n",
            "['dvc', 'exp', 'run', '--queue', '--set-param', 'train.epochs=10', '--set-param', 'model.layers=4', '--set-param', 'model.dropout=0.1']\n",
            "['dvc', 'exp', 'run', '--queue', '--set-param', 'train.epochs=15', '--set-param', 'model.layers=4', '--set-param', 'model.dropout=0.1']\n",
            "['dvc', 'exp', 'run', '--queue', '--set-param', 'train.epochs=10', '--set-param', 'model.layers=1', '--set-param', 'model.dropout=0.3']\n",
            "['dvc', 'exp', 'run', '--queue', '--set-param', 'train.epochs=15', '--set-param', 'model.layers=1', '--set-param', 'model.dropout=0.3']\n",
            "['dvc', 'exp', 'run', '--queue', '--set-param', 'train.epochs=10', '--set-param', 'model.layers=2', '--set-param', 'model.dropout=0.3']\n",
            "['dvc', 'exp', 'run', '--queue', '--set-param', 'train.epochs=15', '--set-param', 'model.layers=2', '--set-param', 'model.dropout=0.3']\n",
            "['dvc', 'exp', 'run', '--queue', '--set-param', 'train.epochs=10', '--set-param', 'model.layers=3', '--set-param', 'model.dropout=0.3']\n",
            "['dvc', 'exp', 'run', '--queue', '--set-param', 'train.epochs=15', '--set-param', 'model.layers=3', '--set-param', 'model.dropout=0.3']\n",
            "['dvc', 'exp', 'run', '--queue', '--set-param', 'train.epochs=10', '--set-param', 'model.layers=4', '--set-param', 'model.dropout=0.3']\n",
            "['dvc', 'exp', 'run', '--queue', '--set-param', 'train.epochs=15', '--set-param', 'model.layers=4', '--set-param', 'model.dropout=0.3']\n",
            "['dvc', 'exp', 'run', '--queue', '--set-param', 'train.epochs=10', '--set-param', 'model.layers=1', '--set-param', 'model.dropout=0.5']\n",
            "['dvc', 'exp', 'run', '--queue', '--set-param', 'train.epochs=15', '--set-param', 'model.layers=1', '--set-param', 'model.dropout=0.5']\n",
            "['dvc', 'exp', 'run', '--queue', '--set-param', 'train.epochs=10', '--set-param', 'model.layers=2', '--set-param', 'model.dropout=0.5']\n",
            "['dvc', 'exp', 'run', '--queue', '--set-param', 'train.epochs=15', '--set-param', 'model.layers=2', '--set-param', 'model.dropout=0.5']\n",
            "['dvc', 'exp', 'run', '--queue', '--set-param', 'train.epochs=10', '--set-param', 'model.layers=3', '--set-param', 'model.dropout=0.5']\n",
            "['dvc', 'exp', 'run', '--queue', '--set-param', 'train.epochs=15', '--set-param', 'model.layers=3', '--set-param', 'model.dropout=0.5']\n",
            "['dvc', 'exp', 'run', '--queue', '--set-param', 'train.epochs=10', '--set-param', 'model.layers=4', '--set-param', 'model.dropout=0.5']\n",
            "['dvc', 'exp', 'run', '--queue', '--set-param', 'train.epochs=15', '--set-param', 'model.layers=4', '--set-param', 'model.dropout=0.5']\n",
            "['dvc', 'exp', 'run', '--queue', '--set-param', 'train.epochs=10', '--set-param', 'model.layers=1', '--set-param', 'model.dropout=0.8']\n",
            "['dvc', 'exp', 'run', '--queue', '--set-param', 'train.epochs=15', '--set-param', 'model.layers=1', '--set-param', 'model.dropout=0.8']\n",
            "['dvc', 'exp', 'run', '--queue', '--set-param', 'train.epochs=10', '--set-param', 'model.layers=2', '--set-param', 'model.dropout=0.8']\n",
            "['dvc', 'exp', 'run', '--queue', '--set-param', 'train.epochs=15', '--set-param', 'model.layers=2', '--set-param', 'model.dropout=0.8']\n",
            "['dvc', 'exp', 'run', '--queue', '--set-param', 'train.epochs=10', '--set-param', 'model.layers=3', '--set-param', 'model.dropout=0.8']\n",
            "['dvc', 'exp', 'run', '--queue', '--set-param', 'train.epochs=15', '--set-param', 'model.layers=3', '--set-param', 'model.dropout=0.8']\n",
            "['dvc', 'exp', 'run', '--queue', '--set-param', 'train.epochs=10', '--set-param', 'model.layers=4', '--set-param', 'model.dropout=0.8']\n",
            "['dvc', 'exp', 'run', '--queue', '--set-param', 'train.epochs=15', '--set-param', 'model.layers=4', '--set-param', 'model.dropout=0.8']\n"
          ]
        }
      ]
    },
    {
      "cell_type": "code",
      "source": [
        ""
      ],
      "metadata": {
        "id": "1DeFgYpUSj8_"
      },
      "execution_count": null,
      "outputs": []
    }
  ]
}