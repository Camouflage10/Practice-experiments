{
  "nbformat": 4,
  "nbformat_minor": 0,
  "metadata": {
    "colab": {
      "name": "gridsearch_dvc.ipynb",
      "provenance": [],
      "authorship_tag": "ABX9TyO7pZR+uzYIeYqS2XlHrG3g",
      "include_colab_link": true
    },
    "kernelspec": {
      "name": "python3",
      "display_name": "Python 3"
    },
    "language_info": {
      "name": "python"
    }
  },
  "cells": [
    {
      "cell_type": "markdown",
      "metadata": {
        "id": "view-in-github",
        "colab_type": "text"
      },
      "source": [
        "<a href=\"https://colab.research.google.com/github/Camouflage10/Practice-experiments/blob/main/gridsearch_dvc.ipynb\" target=\"_parent\"><img src=\"https://colab.research.google.com/assets/colab-badge.svg\" alt=\"Open In Colab\"/></a>"
      ]
    },
    {
      "cell_type": "code",
      "execution_count": 1,
      "metadata": {
        "id": "tXVJj5XMJWnM"
      },
      "outputs": [],
      "source": [
        "import subprocess"
      ]
    },
    {
      "cell_type": "code",
      "source": [
        "#params\n",
        "t=[1,2,3,4,5]\n",
        "d=[1,2,3]\n",
        "c=[1,2]\n",
        "params=[t,d,c]\n",
        "param_names=['t','d','c']"
      ],
      "metadata": {
        "id": "NmwEZE5DJlW6"
      },
      "execution_count": 13,
      "outputs": []
    },
    {
      "cell_type": "code",
      "source": [
        "def send_experiment(indexes):\n",
        "  setp=[]\n",
        "  for i,e in enumerate(params):\n",
        "    setp.append(e[indexes[i]])\n",
        "  sub=[\"dvc\", \"exp\", \"run\", \"--queue\"]\n",
        "  for i,param in enumerate(setp):\n",
        "    sub.append(\"--set-param\")\n",
        "    sub.append(f\"{param_names[i]}={param}\")\n",
        "  subprocess.run(sub)\n",
        "  #print(sub)\n",
        "  "
      ],
      "metadata": {
        "id": "b_DIvs4tRUl4"
      },
      "execution_count": 27,
      "outputs": []
    },
    {
      "cell_type": "code",
      "source": [
        "def send_subprocess_rec(arr,func):\n",
        "  spacing=[]\n",
        "  indexes=[0]*len(arr)\n",
        "  total=0\n",
        "  for e in arr:\n",
        "    l=len(e)\n",
        "    try:\n",
        "      spacing.append(spacing[-1]*l)\n",
        "    except:\n",
        "      spacing.append(l)\n",
        "\n",
        "  total=spacing.pop()\n",
        "  for i in range(1,total+1):\n",
        "    #send\n",
        "    send_experiment(indexes)\n",
        "    #change out\n",
        "    indexes[0]+=1\n",
        "    for j in range(len(spacing)):\n",
        "      if i%(spacing[j])==0:\n",
        "        indexes[j+1]+=1\n",
        "        indexes[j]=0\n",
        "    \n"
      ],
      "metadata": {
        "id": "qEdKjwJpMAvN"
      },
      "execution_count": 28,
      "outputs": []
    },
    {
      "cell_type": "code",
      "source": [
        "send_subprocess_rec(params,send_experiment)"
      ],
      "metadata": {
        "colab": {
          "base_uri": "https://localhost:8080/"
        },
        "id": "g5IhdH5GSYm2",
        "outputId": "54c47edf-a5c9-4743-b8c1-710a2d450f69"
      },
      "execution_count": 26,
      "outputs": [
        {
          "output_type": "stream",
          "name": "stdout",
          "text": [
            "['dvc', 'exp', 'run', '--queue', '--set-param', 't=1', '--set-param', 'd=1', '--set-param', 'c=1']\n",
            "['dvc', 'exp', 'run', '--queue', '--set-param', 't=2', '--set-param', 'd=1', '--set-param', 'c=1']\n",
            "['dvc', 'exp', 'run', '--queue', '--set-param', 't=3', '--set-param', 'd=1', '--set-param', 'c=1']\n",
            "['dvc', 'exp', 'run', '--queue', '--set-param', 't=4', '--set-param', 'd=1', '--set-param', 'c=1']\n",
            "['dvc', 'exp', 'run', '--queue', '--set-param', 't=5', '--set-param', 'd=1', '--set-param', 'c=1']\n",
            "['dvc', 'exp', 'run', '--queue', '--set-param', 't=1', '--set-param', 'd=2', '--set-param', 'c=1']\n",
            "['dvc', 'exp', 'run', '--queue', '--set-param', 't=2', '--set-param', 'd=2', '--set-param', 'c=1']\n",
            "['dvc', 'exp', 'run', '--queue', '--set-param', 't=3', '--set-param', 'd=2', '--set-param', 'c=1']\n",
            "['dvc', 'exp', 'run', '--queue', '--set-param', 't=4', '--set-param', 'd=2', '--set-param', 'c=1']\n",
            "['dvc', 'exp', 'run', '--queue', '--set-param', 't=5', '--set-param', 'd=2', '--set-param', 'c=1']\n",
            "['dvc', 'exp', 'run', '--queue', '--set-param', 't=1', '--set-param', 'd=3', '--set-param', 'c=1']\n",
            "['dvc', 'exp', 'run', '--queue', '--set-param', 't=2', '--set-param', 'd=3', '--set-param', 'c=1']\n",
            "['dvc', 'exp', 'run', '--queue', '--set-param', 't=3', '--set-param', 'd=3', '--set-param', 'c=1']\n",
            "['dvc', 'exp', 'run', '--queue', '--set-param', 't=4', '--set-param', 'd=3', '--set-param', 'c=1']\n",
            "['dvc', 'exp', 'run', '--queue', '--set-param', 't=5', '--set-param', 'd=3', '--set-param', 'c=1']\n",
            "['dvc', 'exp', 'run', '--queue', '--set-param', 't=1', '--set-param', 'd=1', '--set-param', 'c=2']\n",
            "['dvc', 'exp', 'run', '--queue', '--set-param', 't=2', '--set-param', 'd=1', '--set-param', 'c=2']\n",
            "['dvc', 'exp', 'run', '--queue', '--set-param', 't=3', '--set-param', 'd=1', '--set-param', 'c=2']\n",
            "['dvc', 'exp', 'run', '--queue', '--set-param', 't=4', '--set-param', 'd=1', '--set-param', 'c=2']\n",
            "['dvc', 'exp', 'run', '--queue', '--set-param', 't=5', '--set-param', 'd=1', '--set-param', 'c=2']\n",
            "['dvc', 'exp', 'run', '--queue', '--set-param', 't=1', '--set-param', 'd=2', '--set-param', 'c=2']\n",
            "['dvc', 'exp', 'run', '--queue', '--set-param', 't=2', '--set-param', 'd=2', '--set-param', 'c=2']\n",
            "['dvc', 'exp', 'run', '--queue', '--set-param', 't=3', '--set-param', 'd=2', '--set-param', 'c=2']\n",
            "['dvc', 'exp', 'run', '--queue', '--set-param', 't=4', '--set-param', 'd=2', '--set-param', 'c=2']\n",
            "['dvc', 'exp', 'run', '--queue', '--set-param', 't=5', '--set-param', 'd=2', '--set-param', 'c=2']\n",
            "['dvc', 'exp', 'run', '--queue', '--set-param', 't=1', '--set-param', 'd=3', '--set-param', 'c=2']\n",
            "['dvc', 'exp', 'run', '--queue', '--set-param', 't=2', '--set-param', 'd=3', '--set-param', 'c=2']\n",
            "['dvc', 'exp', 'run', '--queue', '--set-param', 't=3', '--set-param', 'd=3', '--set-param', 'c=2']\n",
            "['dvc', 'exp', 'run', '--queue', '--set-param', 't=4', '--set-param', 'd=3', '--set-param', 'c=2']\n",
            "['dvc', 'exp', 'run', '--queue', '--set-param', 't=5', '--set-param', 'd=3', '--set-param', 'c=2']\n"
          ]
        }
      ]
    },
    {
      "cell_type": "code",
      "source": [
        ""
      ],
      "metadata": {
        "id": "1DeFgYpUSj8_"
      },
      "execution_count": null,
      "outputs": []
    }
  ]
}